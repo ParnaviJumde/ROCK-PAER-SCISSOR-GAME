{
 "cells": [
  {
   "cell_type": "code",
   "execution_count": 1,
   "metadata": {},
   "outputs": [
    {
     "name": "stdout",
     "output_type": "stream",
     "text": [
      " enter a choice(rock .paper,scissors):rock\n",
      "player:rock\n",
      "computer:scissors\n",
      " You Lose\n",
      "Play again? (Y/N):y\n",
      "player:rock\n",
      "computer:scissors\n",
      " You Lose\n",
      "Play again? (Y/N):n\n",
      "thanks for playing\n"
     ]
    }
   ],
   "source": [
    "import random\n",
    "options = (\"rock\",\"paper\",\"scissors\")\n",
    "player = None\n",
    "computer = random.choice(options)\n",
    "running = True\n",
    "while running:\n",
    "    while player not in options:\n",
    "        player = input(\" enter a choice(rock .paper,scissors):\")\n",
    "    print(f\"player:{player}\")\n",
    "    print(f\"computer:{computer}\")\n",
    "\n",
    "    if player == computer :\n",
    "        print (\"It is Tie!\")\n",
    "    elif player == \"rock\" and computer ==\" scissors\":\n",
    "        print(\"You Win\")\n",
    "    elif player ==\"paper\" and computer ==\"rock\":\n",
    "        print(\"You Win\")\n",
    "    elif player ==\"scissors\" and computer ==\" paper\":\n",
    "        print(\"You Win\")\n",
    "    else:\n",
    "        print(\" You Lose\")\n",
    "    play_again=input(\"Play again? (Y/N):\").lower()\n",
    "    if not play_again ==\"y\":\n",
    "        running = False\n",
    "print(\"thanks for playing\")        "
   ]
  },
  {
   "cell_type": "code",
   "execution_count": null,
   "metadata": {},
   "outputs": [],
   "source": []
  }
 ],
 "metadata": {
  "kernelspec": {
   "display_name": "Python 3",
   "language": "python",
   "name": "python3"
  },
  "language_info": {
   "codemirror_mode": {
    "name": "ipython",
    "version": 3
   },
   "file_extension": ".py",
   "mimetype": "text/x-python",
   "name": "python",
   "nbconvert_exporter": "python",
   "pygments_lexer": "ipython3",
   "version": "3.7.4"
  }
 },
 "nbformat": 4,
 "nbformat_minor": 2
}
